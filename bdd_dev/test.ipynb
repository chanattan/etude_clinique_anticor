{
 "cells": [
  {
   "cell_type": "code",
   "execution_count": 5,
   "metadata": {},
   "outputs": [
    {
     "name": "stdout",
     "output_type": "stream",
     "text": [
      "sqlite3 version:  2.6.0\n"
     ]
    },
    {
     "name": "stderr",
     "output_type": "stream",
     "text": [
      "/tmp/ipykernel_33957/3065378492.py:5: DeprecationWarning: version is deprecated and will be removed in Python 3.14\n",
      "  print(\"sqlite3 version: \", lite.version)\n"
     ]
    }
   ],
   "source": [
    "import sqlite3 as lite # 2.6.0\n",
    "import sys"
   ]
  },
  {
   "cell_type": "code",
   "execution_count": 39,
   "metadata": {},
   "outputs": [],
   "source": [
    "con = lite.connect('bdd.db') # connect\n",
    "\n",
    "cur = con.cursor() # cursor\n",
    "\n",
    "tables_names = ['acheteur', 'nature', 'forme_prix', 'procedure', 'transactions', 'titulaire', \n",
    "          'lieu', 'type_transaction', 'modification' ]"
   ]
  },
  {
   "cell_type": "code",
   "execution_count": 47,
   "metadata": {},
   "outputs": [
    {
     "name": "stdout",
     "output_type": "stream",
     "text": [
      "Tables available in the database : ( 9 tables )\n",
      " - acheteur\n",
      " - nature\n",
      " - forme_Prix\n",
      " - procedure\n",
      " - transactions\n",
      " - titulaire\n",
      " - lieu\n",
      " - type_transaction\n",
      " - modification\n",
      "Tables deleted\n"
     ]
    }
   ],
   "source": [
    "# doc for the following functions\n",
    "def tables_available(cur : lite.Cursor) -> list[str]:\n",
    "    cur.execute(\"SELECT name FROM sqlite_master WHERE type='table';\")\n",
    "    tables = cur.fetchall()\n",
    "    return tables\n",
    "\n",
    "def del_tables(cur : lite.Cursor, tables : list[str]) -> None:\n",
    "    for i in tables:\n",
    "        cmd = \"DROP TABLE IF EXISTS \"+i+\";\"\n",
    "        cur.execute(cmd)\n",
    "    print(\"Tables deleted\")\n",
    "    # test\n",
    "    t = tables_available(cur)\n",
    "    if len(t) != 0:\n",
    "        print(\"Error : tables not deleted\")\n",
    "\n",
    "def print_tables(cur : lite.Cursor) -> None:\n",
    "    t = tables_available(cur)\n",
    "    print(\"Tables available in the database : (\",len(t),\"tables )\")\n",
    "    for i in t:\n",
    "        print(\" -\",i[0])"
   ]
  },
  {
   "cell_type": "code",
   "execution_count": 49,
   "metadata": {},
   "outputs": [],
   "source": [
    "def run_sql_script(cur : lite.Cursor, script_path : str) -> None:\n",
    "    script = open(script_path, 'r').read()\n",
    "    cur.executescript(script)\n",
    "    con.commit()\n",
    "\n",
    "def create_tables(cur : lite.Cursor) -> None:\n",
    "    run_sql_script(cur, 'create_tables.sql')\n",
    "\n",
    "def reset_bdd():\n",
    "    del_tables(cur, tables_names)\n",
    "    create_tables(cur)"
   ]
  },
  {
   "cell_type": "code",
   "execution_count": 54,
   "metadata": {},
   "outputs": [
    {
     "name": "stdout",
     "output_type": "stream",
     "text": [
      "Tables available in the database : ( 0 tables )\n",
      "Tables deleted\n",
      "Tables available in the database : ( 0 tables )\n",
      "Tables available in the database : ( 9 tables )\n",
      " - acheteur\n",
      " - nature\n",
      " - forme_Prix\n",
      " - procedure\n",
      " - transactions\n",
      " - titulaire\n",
      " - lieu\n",
      " - type_transaction\n",
      " - modification\n"
     ]
    }
   ],
   "source": [
    "print_tables(cur)"
   ]
  },
  {
   "cell_type": "code",
   "execution_count": 1,
   "metadata": {},
   "outputs": [
    {
     "ename": "NameError",
     "evalue": "name 'jmespath' is not defined",
     "output_type": "error",
     "traceback": [
      "\u001b[0;31m---------------------------------------------------------------------------\u001b[0m",
      "\u001b[0;31mNameError\u001b[0m                                 Traceback (most recent call last)",
      "Cell \u001b[0;32mIn[1], line 5\u001b[0m\n\u001b[1;32m      2\u001b[0m jmespath_query \u001b[38;5;241m=\u001b[39m \u001b[38;5;124m\"\u001b[39m\u001b[38;5;124mresponse.donneesEssentielles[?contains(domainListDonneesEssentiellesMP.domainRecuperDEDeBase.codeCPV, \u001b[39m\u001b[38;5;124m'\u001b[39m\u001b[38;5;124m504\u001b[39m\u001b[38;5;124m'\u001b[39m\u001b[38;5;124m)]\u001b[39m\u001b[38;5;124m\"\u001b[39m\n\u001b[1;32m      4\u001b[0m \u001b[38;5;66;03m# Apply JMESPath query\u001b[39;00m\n\u001b[0;32m----> 5\u001b[0m result \u001b[38;5;241m=\u001b[39m jmespath\u001b[38;5;241m.\u001b[39msearch(jmespath_query, data)\n\u001b[1;32m      7\u001b[0m \u001b[38;5;28mprint\u001b[39m(result)\n\u001b[1;32m      9\u001b[0m \u001b[38;5;66;03m# open csv in pandas\u001b[39;00m\n",
      "\u001b[0;31mNameError\u001b[0m: name 'jmespath' is not defined"
     ]
    }
   ],
   "source": [
    "# JMESPath query\n",
    "jmespath_query = \"response.donneesEssentielles[?contains(domainListDonneesEssentiellesMP.domainRecuperDEDeBase.codeCPV, '504')]\"\n",
    "\n",
    "# Apply JMESPath query\n",
    "result = jmespath.search(jmespath_query, data)\n",
    "\n",
    "print(result)\n",
    "\n",
    "# open csv in pandas\n",
    "import pandas as pd\n",
    "df = pd.read_csv('decp-v3-marches-valides.csv', sep=';')"
   ]
  }
 ],
 "metadata": {
  "kernelspec": {
   "display_name": "base",
   "language": "python",
   "name": "python3"
  },
  "language_info": {
   "codemirror_mode": {
    "name": "ipython",
    "version": 3
   },
   "file_extension": ".py",
   "mimetype": "text/x-python",
   "name": "python",
   "nbconvert_exporter": "python",
   "pygments_lexer": "ipython3",
   "version": "3.12.1"
  }
 },
 "nbformat": 4,
 "nbformat_minor": 2
}
